{
 "cells": [
  {
   "cell_type": "code",
   "execution_count": 110,
   "id": "fd0e45d0-6ae7-4a96-9da9-d2ba57d51b1c",
   "metadata": {},
   "outputs": [],
   "source": [
    "import json\n",
    "import pandas\n",
    "import urllib.request\n",
    "\n",
    "with urllib.request.urlopen(\"https://dummyjson.com/users\") as url:    #opens given url, with url as its alias\n",
    "    data = json.load(url)    #takes object and returns json object\n",
    "df = pandas.json_normalize(data['users'])    #normalises the data, i.e. takes the nested data and gives each sub-section a column\n",
    "\n",
    "df['Name'] = df['firstName'] + ' ' + df['lastName']    #combines name columns\n",
    "df[\"Gender\"] = df[\"gender\"].str.capitalize()    #Capitalises first letter of each element\n",
    "df['Phone'] = df['phone'].str.replace('-','').str.replace(' ','')    #replaces '-' and ' ' with '', i.e. removes those characters\n",
    "df['Latitude'] = df['address.coordinates.lat']    #this takes the normalised latitude column and renames it to 'Latitude'\n",
    "df['Longitude'] = df['address.coordinates.lng']\n",
    "df = df.rename(columns={'email' : 'Email Address', 'age' : 'Age'})    #alternative way to rename columns (more elegant but wanted to explain finding the normalised columns)\n",
    "\n",
    "df['birthDate_df'] = pandas.to_datetime(df.birthDate)    #takes the birthDate column and lets pandas know that it is datetime form\n",
    "df['DOB'] = df['birthDate_df'].dt.strftime('%d/%m/%Y')    #changes the order of the date to dd/mm/yy\n",
    "\n",
    "df_new = df[['Name', 'Email Address', 'Age', 'Gender', 'Phone', 'Latitude', 'Longitude', 'DOB']]   #creates a new dataframe with only the formatted data columns\n",
    "df_new.to_excel('InterviewTask.xlsx')    #saves said dataframe to an Excel File"
   ]
  },
  {
   "cell_type": "code",
   "execution_count": null,
   "id": "6f790002-a670-4b51-b6f6-11305426fce2",
   "metadata": {},
   "outputs": [],
   "source": []
  },
  {
   "cell_type": "code",
   "execution_count": null,
   "id": "f161348e-5244-42a9-a1a1-1869377e1d79",
   "metadata": {},
   "outputs": [],
   "source": []
  },
  {
   "cell_type": "code",
   "execution_count": null,
   "id": "1797cb37-205a-4f2f-876d-e1b21c8c7ac3",
   "metadata": {},
   "outputs": [],
   "source": []
  }
 ],
 "metadata": {
  "kernelspec": {
   "display_name": "Python 3 (ipykernel)",
   "language": "python",
   "name": "python3"
  },
  "language_info": {
   "codemirror_mode": {
    "name": "ipython",
    "version": 3
   },
   "file_extension": ".py",
   "mimetype": "text/x-python",
   "name": "python",
   "nbconvert_exporter": "python",
   "pygments_lexer": "ipython3",
   "version": "3.12.4"
  }
 },
 "nbformat": 4,
 "nbformat_minor": 5
}
